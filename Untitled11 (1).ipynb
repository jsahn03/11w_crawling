{
  "nbformat": 4,
  "nbformat_minor": 0,
  "metadata": {
    "colab": {
      "name": "Untitled11.ipynb",
      "provenance": []
    },
    "kernelspec": {
      "name": "python3",
      "display_name": "Python 3"
    },
    "language_info": {
      "name": "python"
    }
  },
  "cells": [
    {
      "cell_type": "code",
      "source": [
        "!pip install beautifulsoup4\n",
        "!pip install requests"
      ],
      "metadata": {
        "colab": {
          "base_uri": "https://localhost:8080/"
        },
        "id": "7ejSIxLLHRqd",
        "outputId": "6c402d13-effb-42cd-8459-21b26641c555"
      },
      "execution_count": null,
      "outputs": [
        {
          "output_type": "stream",
          "name": "stdout",
          "text": [
            "Looking in indexes: https://pypi.org/simple, https://us-python.pkg.dev/colab-wheels/public/simple/\n",
            "Requirement already satisfied: beautifulsoup4 in /usr/local/lib/python3.7/dist-packages (4.6.3)\n",
            "Looking in indexes: https://pypi.org/simple, https://us-python.pkg.dev/colab-wheels/public/simple/\n",
            "Requirement already satisfied: requests in /usr/local/lib/python3.7/dist-packages (2.23.0)\n",
            "Requirement already satisfied: chardet<4,>=3.0.2 in /usr/local/lib/python3.7/dist-packages (from requests) (3.0.4)\n",
            "Requirement already satisfied: idna<3,>=2.5 in /usr/local/lib/python3.7/dist-packages (from requests) (2.10)\n",
            "Requirement already satisfied: urllib3!=1.25.0,!=1.25.1,<1.26,>=1.21.1 in /usr/local/lib/python3.7/dist-packages (from requests) (1.24.3)\n",
            "Requirement already satisfied: certifi>=2017.4.17 in /usr/local/lib/python3.7/dist-packages (from requests) (2022.5.18.1)\n"
          ]
        }
      ]
    },
    {
      "cell_type": "code",
      "source": [
        "import requests\n",
        "import bs4\n",
        "\n",
        "URL = 'https://www.premierleague.com/tables'\n",
        "raw = requests.get(URL)\n",
        "\n",
        "html = bs4.BeautifulSoup(raw.text, 'html.parser')\n",
        "\n",
        "target = html.find('div', {'class':'allTablesContainer'})\n",
        "print(\"[ 프리미어리그 구단 순위 ]\")\n",
        "Clubs = target.find_all(\"span\", {'class':'long'})\n",
        "for Club in Clubs:\n",
        "    print(Club.text)"
      ],
      "metadata": {
        "colab": {
          "base_uri": "https://localhost:8080/"
        },
        "id": "0UQDpcUYHdAf",
        "outputId": "ed1b4fd2-3db3-4e91-d9ee-8b4871f711da"
      },
      "execution_count": null,
      "outputs": [
        {
          "output_type": "stream",
          "name": "stdout",
          "text": [
            "[ 프리미어리그 구단 순위 ]\n",
            "Manchester City\n",
            "Liverpool\n",
            "Chelsea\n",
            "Tottenham Hotspur\n",
            "Arsenal\n",
            "Manchester United\n",
            "West Ham United\n",
            "Leicester City\n",
            "Brighton and Hove Albion\n",
            "Wolverhampton Wanderers\n",
            "Newcastle United\n",
            "Crystal Palace\n",
            "Brentford\n",
            "Aston Villa\n",
            "Southampton\n",
            "Everton\n",
            "Leeds United\n",
            "Burnley\n",
            "Watford\n",
            "Norwich City\n"
          ]
        }
      ]
    }
  ]
}


ptss = target.find_all('td', {'class':'points'})

l1 = []
l2 = []
for Club in Clubs:
  l1.append(Club.text)

for pts in ptss:
  l2.append(int(pts.text))

x = len(l1)
dict = {}
for i in range(0, x):
  club_name = l1[i]
  pts_score = l2[i]
  dict[club_name] = pts_score

find = input()
print(dict[find])
